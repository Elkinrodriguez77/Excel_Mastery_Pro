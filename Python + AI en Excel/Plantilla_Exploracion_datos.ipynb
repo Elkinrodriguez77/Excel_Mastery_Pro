{
 "cells": [
  {
   "cell_type": "markdown",
   "metadata": {
    "id": "x1yJFH5zYACN"
   },
   "source": [
    "# 1. Cargar datos a Colab y Excel"
   ]
  },
  {
   "cell_type": "markdown",
   "metadata": {},
   "source": [
    "Fuente: https://www.kaggle.com/datasets/aungpyaeap/supermarket-sales"
   ]
  },
  {
   "cell_type": "markdown",
   "metadata": {
    "id": "cUzahwpOnYrK"
   },
   "source": [
    "El cargue de datos en excel se hace mediante el comando \"xl\". 🚀"
   ]
  },
  {
   "cell_type": "code",
   "execution_count": null,
   "metadata": {
    "colab": {
     "base_uri": "https://localhost:8080/",
     "height": 347
    },
    "executionInfo": {
     "elapsed": 73,
     "status": "ok",
     "timestamp": 1742857845873,
     "user": {
      "displayName": "Elkin Rodriguez",
      "userId": "05442318823756867837"
     },
     "user_tz": 300
    },
    "id": "rmq84xh7XiJ0",
    "outputId": "c50610b5-4ada-45a6-8251-fa4dfbbdf411"
   },
   "outputs": [],
   "source": []
  },
  {
   "cell_type": "markdown",
   "metadata": {
    "id": "7ndlYACPYD57"
   },
   "source": [
    "## 2. Describir elementos de la tabla (estadísticos descriptivos)"
   ]
  },
  {
   "cell_type": "markdown",
   "metadata": {
    "id": "O1K23CdhnecR"
   },
   "source": [
    "🔍 ¡Vamos a explorar datos como unos cracks!\n",
    "\n",
    "Veamos lo fácil e intuitivo que es crear estadísticos descriptivos usando Python 🐍 en Excel o en Colab.\n",
    "Después, vamos a comparar cómo se hace esto mismo pero con el método tradicional de Excel 📊... ¡y tú decides con cuál te quedas! 💥"
   ]
  },
  {
   "cell_type": "code",
   "execution_count": null,
   "metadata": {
    "colab": {
     "base_uri": "https://localhost:8080/",
     "height": 335
    },
    "executionInfo": {
     "elapsed": 18,
     "status": "ok",
     "timestamp": 1742858982847,
     "user": {
      "displayName": "Elkin Rodriguez",
      "userId": "05442318823756867837"
     },
     "user_tz": 300
    },
    "id": "1iBJOtVbYLld",
    "outputId": "5efec74e-a15d-45d4-830d-fca84c12accb"
   },
   "outputs": [],
   "source": []
  },
  {
   "cell_type": "markdown",
   "metadata": {
    "id": "9MaEdjiidgEf"
   },
   "source": [
    "## 3. Conteo de registros por ciudad"
   ]
  },
  {
   "cell_type": "code",
   "execution_count": null,
   "metadata": {
    "colab": {
     "base_uri": "https://localhost:8080/",
     "height": 209
    },
    "executionInfo": {
     "elapsed": 36,
     "status": "ok",
     "timestamp": 1742858497276,
     "user": {
      "displayName": "Elkin Rodriguez",
      "userId": "05442318823756867837"
     },
     "user_tz": 300
    },
    "id": "YMvCv1jYdihC",
    "outputId": "5d1e8744-04b6-4f72-cbe3-3cb2cc0f44e3"
   },
   "outputs": [],
   "source": []
  },
  {
   "cell_type": "markdown",
   "metadata": {
    "id": "OagaIfTHdzMe"
   },
   "source": [
    "## 4. Promedio de ventas por tipo de cliente"
   ]
  },
  {
   "cell_type": "markdown",
   "metadata": {
    "id": "TrhjFj6AoSO0"
   },
   "source": [
    "📚 ¿Qué cálculos podemos hacer con groupby()?\n",
    "✅ .mean() → Promedio de ventas por tipo de cliente\n",
    "✅ .sum() → Total de ventas acumuladas por tipo de cliente\n",
    "✅ .count() → Cuántas compras hizo cada tipo de cliente\n",
    "✅ .min() / .max() → Valor mínimo y máximo de compra por cliente\n",
    "✅ .median() → Mediana (muy útil cuando hay valores extremos)\n",
    "✅ .std() → Desviación estándar (qué tan variadas son las compras)"
   ]
  },
  {
   "cell_type": "code",
   "execution_count": null,
   "metadata": {
    "colab": {
     "base_uri": "https://localhost:8080/",
     "height": 178
    },
    "executionInfo": {
     "elapsed": 49,
     "status": "ok",
     "timestamp": 1742858579790,
     "user": {
      "displayName": "Elkin Rodriguez",
      "userId": "05442318823756867837"
     },
     "user_tz": 300
    },
    "id": "j6oGQbBjd2c_",
    "outputId": "6fdbf16a-dad2-4abf-de05-8ddaea56a747"
   },
   "outputs": [],
   "source": []
  },
  {
   "cell_type": "markdown",
   "metadata": {
    "id": "f0HA-9auedIJ"
   },
   "source": [
    "## 5. Promedio de calificación por línea de producto (ordenado desc)"
   ]
  },
  {
   "cell_type": "markdown",
   "metadata": {
    "id": "KHQ81lLYolG-"
   },
   "source": [
    "🧠 Ordenar los datos para que hablen más claro\n",
    "Después de agrupar y calcular estadísticas, no basta con tener los números…\n",
    "👉 El orden hace la diferencia.\n",
    "Con sort_values() podemos resaltar los grupos más importantes: los que más venden, los que menos califican, o los que tienen más transacciones."
   ]
  },
  {
   "cell_type": "code",
   "execution_count": null,
   "metadata": {
    "colab": {
     "base_uri": "https://localhost:8080/",
     "height": 303
    },
    "executionInfo": {
     "elapsed": 46,
     "status": "ok",
     "timestamp": 1742858795228,
     "user": {
      "displayName": "Elkin Rodriguez",
      "userId": "05442318823756867837"
     },
     "user_tz": 300
    },
    "id": "uTNRjPixengq",
    "outputId": "1e77a79f-794e-4b36-c3af-0e6aeee1da45"
   },
   "outputs": [],
   "source": []
  },
  {
   "cell_type": "markdown",
   "metadata": {
    "id": "oujGoyxVezd0"
   },
   "source": [
    "## 6. Total de ventas por método de pago"
   ]
  },
  {
   "cell_type": "code",
   "execution_count": null,
   "metadata": {
    "colab": {
     "base_uri": "https://localhost:8080/",
     "height": 209
    },
    "executionInfo": {
     "elapsed": 18,
     "status": "ok",
     "timestamp": 1742858986521,
     "user": {
      "displayName": "Elkin Rodriguez",
      "userId": "05442318823756867837"
     },
     "user_tz": 300
    },
    "id": "_4d1psn3e0b-",
    "outputId": "5574cc5b-679a-47d7-9532-5ed19350593a"
   },
   "outputs": [],
   "source": []
  },
  {
   "cell_type": "markdown",
   "metadata": {
    "id": "2DA_PgYuftrT"
   },
   "source": [
    "## 7. Crear nueva columna: ingreso promedio por producto"
   ]
  },
  {
   "cell_type": "markdown",
   "metadata": {
    "id": "MgRlrXbMo9SG"
   },
   "source": [
    "🧠 Crear nuevas columnas en un DataFrame (sin tocar la tabla original de Excel)\n",
    "Una de las ventajas más poderosas de trabajar con Python en Excel o Colab es que puedes crear nuevas columnas directamente desde código, sin alterar los datos originales en la hoja de cálculo."
   ]
  },
  {
   "cell_type": "code",
   "execution_count": null,
   "metadata": {
    "colab": {
     "base_uri": "https://localhost:8080/",
     "height": 206
    },
    "executionInfo": {
     "elapsed": 13,
     "status": "ok",
     "timestamp": 1742861496579,
     "user": {
      "displayName": "Elkin Rodriguez",
      "userId": "05442318823756867837"
     },
     "user_tz": 300
    },
    "id": "8EyxrCqdfy96",
    "outputId": "43d9b1a7-35f4-481d-8eb3-12cae9d14adb"
   },
   "outputs": [],
   "source": []
  },
  {
   "cell_type": "markdown",
   "metadata": {
    "id": "1iQ1DN5lf_8X"
   },
   "source": [
    "## 8. Convertir la fecha y extraer mes"
   ]
  },
  {
   "cell_type": "code",
   "execution_count": null,
   "metadata": {
    "executionInfo": {
     "elapsed": 41,
     "status": "ok",
     "timestamp": 1742859154192,
     "user": {
      "displayName": "Elkin Rodriguez",
      "userId": "05442318823756867837"
     },
     "user_tz": 300
    },
    "id": "6U8TMCZLgCEC"
   },
   "outputs": [],
   "source": []
  },
  {
   "cell_type": "markdown",
   "metadata": {
    "id": "z1JGdv2egPWr"
   },
   "source": [
    "## 9. Ventas totales por mes"
   ]
  },
  {
   "cell_type": "code",
   "execution_count": null,
   "metadata": {
    "colab": {
     "base_uri": "https://localhost:8080/",
     "height": 209
    },
    "executionInfo": {
     "elapsed": 48,
     "status": "ok",
     "timestamp": 1742859214783,
     "user": {
      "displayName": "Elkin Rodriguez",
      "userId": "05442318823756867837"
     },
     "user_tz": 300
    },
    "id": "8q_SstFEgRj4",
    "outputId": "cfd92b38-d334-4038-9087-52edbfd7f302"
   },
   "outputs": [],
   "source": []
  },
  {
   "cell_type": "markdown",
   "metadata": {
    "id": "x0Tq9hHdhFFE"
   },
   "source": [
    "## 10. Histograma de calificaciones"
   ]
  },
  {
   "cell_type": "markdown",
   "metadata": {
    "id": "_1IQkjL1pON4"
   },
   "source": [
    "📊 ¿Qué es un histograma?\n",
    "Un histograma es un gráfico de barras especialmente diseñado para mostrar la distribución de una variable numérica continua.\n",
    "En lugar de mostrar valores individuales, agrupa los datos en rangos (o \"bins\") y te muestra cuántos datos caen dentro de cada rango."
   ]
  },
  {
   "cell_type": "code",
   "execution_count": null,
   "metadata": {
    "colab": {
     "base_uri": "https://localhost:8080/",
     "height": 507
    },
    "executionInfo": {
     "elapsed": 260,
     "status": "ok",
     "timestamp": 1742859941374,
     "user": {
      "displayName": "Elkin Rodriguez",
      "userId": "05442318823756867837"
     },
     "user_tz": 300
    },
    "id": "uh8BSM-zhG5o",
    "outputId": "b7907742-88e2-44d1-d08c-5f258cde5859"
   },
   "outputs": [],
   "source": []
  },
  {
   "cell_type": "markdown",
   "metadata": {
    "id": "ihoznIMIjhIt"
   },
   "source": [
    "## 11. Gráfico de Ventas por ciudad"
   ]
  },
  {
   "cell_type": "code",
   "execution_count": null,
   "metadata": {
    "colab": {
     "base_uri": "https://localhost:8080/",
     "height": 507
    },
    "executionInfo": {
     "elapsed": 210,
     "status": "ok",
     "timestamp": 1742860078689,
     "user": {
      "displayName": "Elkin Rodriguez",
      "userId": "05442318823756867837"
     },
     "user_tz": 300
    },
    "id": "okVN2B-6jkjn",
    "outputId": "3a51a1dc-0470-4c9e-bc6d-fd79e55be150"
   },
   "outputs": [],
   "source": []
  },
  {
   "cell_type": "markdown",
   "metadata": {
    "id": "2bBy_Nqbj4tP"
   },
   "source": [
    "## 12. Boxplot de ingresos por ciudad"
   ]
  },
  {
   "cell_type": "markdown",
   "metadata": {
    "id": "mD_dCZRopXrq"
   },
   "source": [
    "📦 ¿Qué es un Boxplot (diagrama de caja)?\n",
    "Un boxplot es una herramienta visual que resume la distribución de una variable numérica y resalta los valores atípicos (outliers).\n",
    "Es uno de los gráficos más potentes para entender rápidamente cómo se comportan los datos. 👀\n",
    "\n",
    "📐 ¿Qué muestra un boxplot?\n",
    "Un solo gráfico te da mucha info:\n",
    "\n",
    "Línea central → la mediana (percentil 50)\n",
    "\n",
    "Caja → representa el 50% de los datos (del percentil 25 al 75)\n",
    "\n",
    "Bigotes → valores que se encuentran dentro de un rango “aceptable”\n",
    "\n",
    "Puntos sueltos → outliers (valores extremos)"
   ]
  },
  {
   "cell_type": "code",
   "execution_count": null,
   "metadata": {
    "colab": {
     "base_uri": "https://localhost:8080/",
     "height": 614
    },
    "executionInfo": {
     "elapsed": 206,
     "status": "ok",
     "timestamp": 1742861630587,
     "user": {
      "displayName": "Elkin Rodriguez",
      "userId": "05442318823756867837"
     },
     "user_tz": 300
    },
    "id": "W2DHuR62j5eq",
    "outputId": "ac468d49-73d6-425f-8765-892c8c3741cf"
   },
   "outputs": [],
   "source": []
  },
  {
   "cell_type": "markdown",
   "metadata": {
    "id": "TuAAmEAglhEx"
   },
   "source": [
    "# 13. Mapa de calor de correlación"
   ]
  },
  {
   "cell_type": "markdown",
   "metadata": {
    "id": "3SZ1ewOqpztG"
   },
   "source": [
    "🌐 ¿Qué es un mapa de correlación?\n",
    "Un mapa de correlación (o heatmap de correlación) muestra de forma visual qué tan relacionadas están entre sí las variables numéricas de un dataset.\n",
    "\n",
    "Se basa en el cálculo del coeficiente de correlación (por defecto, Pearson), que mide la fuerza y dirección de la relación lineal entre dos variables.\n",
    "\n",
    "🔢 ¿Cómo se interpreta?\n",
    "El valor del coeficiente va de -1 a 1:\n",
    "\n",
    "Valor\tSignificado\n",
    "1\tCorrelación positiva perfecta ➕\n",
    "0\tSin correlación 😐\n",
    "-1\tCorrelación negativa perfecta ➖\n",
    "🔍 ¿Qué nos permite ver un mapa de correlación?\n",
    "✅ Si dos variables están muy relacionadas (y cuál depende de cuál)\n",
    "✅ Si hay redundancia de información\n",
    "✅ Si podríamos predecir una variable a partir de otra\n",
    "✅ Si hay relaciones negativas que podrían ser útiles (ej: más descuento = menos ganancias)"
   ]
  },
  {
   "cell_type": "code",
   "execution_count": null,
   "metadata": {
    "colab": {
     "base_uri": "https://localhost:8080/",
     "height": 507
    },
    "executionInfo": {
     "elapsed": 336,
     "status": "ok",
     "timestamp": 1742861717455,
     "user": {
      "displayName": "Elkin Rodriguez",
      "userId": "05442318823756867837"
     },
     "user_tz": 300
    },
    "id": "kv4JDXPNlkbT",
    "outputId": "85bd2001-0470-408d-e4fc-d8f4e5869444"
   },
   "outputs": [],
   "source": []
  },
  {
   "cell_type": "markdown",
   "metadata": {
    "id": "iiLeofCumV9C"
   },
   "source": [
    "## 14. Grafico de correlación entre cantidades y total"
   ]
  },
  {
   "cell_type": "code",
   "execution_count": null,
   "metadata": {
    "colab": {
     "base_uri": "https://localhost:8080/",
     "height": 507
    },
    "executionInfo": {
     "elapsed": 227,
     "status": "ok",
     "timestamp": 1742860985926,
     "user": {
      "displayName": "Elkin Rodriguez",
      "userId": "05442318823756867837"
     },
     "user_tz": 300
    },
    "id": "0Dd1q_3CmaN3",
    "outputId": "3039b726-bcc4-4808-8e75-5701794ac915"
   },
   "outputs": [],
   "source": []
  },
  {
   "cell_type": "markdown",
   "metadata": {},
   "source": [
    "# 🤖💬 Preguntas poderosas con AI"
   ]
  },
  {
   "cell_type": "markdown",
   "metadata": {},
   "source": [
    "✅ Estructura de un buen prompt para usar conmigo (ChatGPT o cualquier IA):\n",
    "Contexto del dataset: qué datos tengo, columnas importantes, tipo de archivo\n",
    "\n",
    "Objetivo claro: qué quiero saber, descubrir o visualizar\n",
    "\n",
    "Formato de respuesta deseado: tabla, código, gráfico, etc. (opcional)"
   ]
  },
  {
   "cell_type": "markdown",
   "metadata": {},
   "source": [
    "💬 Ejemplos de buenos prompts para que ellos usen contigo desde cero:\n",
    "\n",
    "❓ Prompt 1: Análisis simple por grupo\n",
    "\n",
    "\"Tengo un dataset de ventas de supermercado, con columnas como City, Gender, Total, Customer type y Product line.\n",
    "¿Me puedes ayudar a calcular el promedio de ventas por tipo de cliente (Customer type) usando Python en Excel o Colab?\""
   ]
  },
  {
   "cell_type": "markdown",
   "metadata": {},
   "source": [
    "❓ Prompt 2: Visualización de distribución\n",
    "\n",
    "\"Estoy analizando una columna llamada Rating que representa la calificación que dan los clientes.\n",
    "¿Puedes mostrarme un histograma que me ayude a ver cómo están distribuidas esas calificaciones?\""
   ]
  },
  {
   "cell_type": "markdown",
   "metadata": {},
   "source": [
    "❓ Prompt 3: Gráfico comparativo entre grupos\n",
    "\n",
    "\"Tengo datos por género (Gender) y ventas (Total). ¿Cómo puedo hacer un gráfico de barras para comparar el promedio de ventas entre hombres y mujeres?\""
   ]
  }
 ],
 "metadata": {
  "colab": {
   "authorship_tag": "ABX9TyN6l36+T2q3RWVWHi9fra3R",
   "provenance": []
  },
  "kernelspec": {
   "display_name": "Python 3",
   "name": "python3"
  },
  "language_info": {
   "name": "python"
  }
 },
 "nbformat": 4,
 "nbformat_minor": 0
}
